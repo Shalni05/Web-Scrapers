{
 "cells": [
  {
   "cell_type": "code",
   "execution_count": 21,
   "metadata": {
    "collapsed": true
   },
   "outputs": [],
   "source": [
    "from selenium import webdriver\n",
    "from selenium.webdriver.support.ui import WebDriverWait\n",
    "from selenium.webdriver.support import expected_conditions as EC"
   ]
  },
  {
   "cell_type": "code",
   "execution_count": 24,
   "metadata": {},
   "outputs": [
    {
     "name": "stdout",
     "output_type": "stream",
     "text": [
      "Python Programming ~ (https://www.youtube.com/watch?v=N4mEzFDjqtA)\n",
      "Python Beginner Tutorial 1 (For Absolute Beginners) ~ (https://www.youtube.com/watch?v=cpPG0bKHYKc)\n",
      "Python Tutorial for Beginners . From the basics to advanced topics ~ (https://www.youtube.com/watch?v=Vxw1b8f_yts)\n",
      "Map, Filter, and Reduce Functions  ||  Python Tutorial  ||  Learn Python Programming ~ (https://www.youtube.com/watch?v=hUes6y2b--0)\n",
      "Python Beginner Tutorial 1 For Absolute Beginners - (Setting up Python) ~ (https://www.youtube.com/watch?v=IZj8hLrkABs)\n",
      "Learn Python Programming for Free Today! ~ (https://www.youtube.com/watch?v=f6ji-QcOo_U)\n",
      "Lesson 1 - Python Programming (Automate the Boring Stuff with Python) ~ (https://www.youtube.com/watch?v=1F_OgqRuSdI)\n",
      "Python Programming Tutorial | Learn Python programming | Python language ~ (https://www.youtube.com/watch?v=BTzav965P7w)\n",
      "Zero to Hero with Python Tutorial FULL  Easy Learning python 3 4 from begin to advance ~ (https://www.youtube.com/watch?v=TV9tSHFAFjg)\n",
      "Python Programming Tutorial - 14 - Intro to Methods ~ (https://www.youtube.com/watch?v=ZQywX4uGIfw)\n",
      "Python Tutorial for Beginners 2017 Part 1 | Python Programming Tutorial | Python Basics ~ (https://www.youtube.com/watch?v=2uCXIbkbDSE)\n",
      "A hands-on introduction to Python for beginning programmers ~ (https://www.youtube.com/watch?v=rkx5_MRAV3A)\n",
      "Python Coding tutorial - Don't be scared of code! Step by step walkthrough ~ (https://www.youtube.com/watch?v=kZu5woA0fHg)\n",
      "Complete Python Programming Tutorial for Beginners ~ (https://www.youtube.com/watch?v=R6wQmWMDiB4)\n",
      "Python Programming Tutorial - 6 - Strings ~ (https://www.youtube.com/watch?v=9v1HcKR39qw)\n"
     ]
    }
   ],
   "source": [
    "path_to_chromedriver = 'D:/Software/chromedriver' \n",
    "browser = webdriver.Chrome(executable_path = path_to_chromedriver)\n",
    "browser.get(\"http://www.youtube.com/results?search_query=\" + \"python+programming+tutorial\")\n",
    "\n",
    "\n",
    "results = browser.find_elements_by_xpath('//div[@id=\"dismissable\"]')\n",
    "\n",
    "\n",
    "\n",
    "for result in results:\n",
    "    video = result.find_element_by_xpath('.//h3/a')\n",
    "    title = video.get_attribute('title')\n",
    "    url = video.get_attribute('href')\n",
    "    print(\"{} ~ ({})\".format(title, url))\n",
    "\t\n",
    "browser.quit()"
   ]
  },
  {
   "cell_type": "code",
   "execution_count": null,
   "metadata": {
    "collapsed": true
   },
   "outputs": [],
   "source": []
  },
  {
   "cell_type": "code",
   "execution_count": null,
   "metadata": {
    "collapsed": true
   },
   "outputs": [],
   "source": []
  }
 ],
 "metadata": {
  "kernelspec": {
   "display_name": "Python 3",
   "language": "python",
   "name": "python3"
  },
  "language_info": {
   "codemirror_mode": {
    "name": "ipython",
    "version": 3
   },
   "file_extension": ".py",
   "mimetype": "text/x-python",
   "name": "python",
   "nbconvert_exporter": "python",
   "pygments_lexer": "ipython3",
   "version": "3.6.1"
  }
 },
 "nbformat": 4,
 "nbformat_minor": 2
}

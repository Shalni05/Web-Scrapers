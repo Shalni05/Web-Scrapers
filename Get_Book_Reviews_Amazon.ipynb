{
 "cells": [
  {
   "cell_type": "code",
   "execution_count": 1,
   "metadata": {
    "collapsed": true
   },
   "outputs": [],
   "source": [
    "from bs4 import BeautifulSoup\n",
    "import requests\n",
    "import pandas as pd"
   ]
  },
  {
   "cell_type": "code",
   "execution_count": 73,
   "metadata": {},
   "outputs": [],
   "source": [
    "url = 'https://www.amazon.com/Einstein-Walter-Isaacson/product-reviews/0061893897/ref=cm_cr_dp_d_show_all_btm?ie=UTF8&reviewerType=all_reviews'"
   ]
  },
  {
   "cell_type": "code",
   "execution_count": 74,
   "metadata": {
    "collapsed": true
   },
   "outputs": [],
   "source": [
    "result = requests.get(url)\n",
    "c = result.content\n",
    "soup = BeautifulSoup(c, 'html.parser')"
   ]
  },
  {
   "cell_type": "code",
   "execution_count": 75,
   "metadata": {
    "collapsed": true
   },
   "outputs": [],
   "source": [
    "divs = soup.findAll(\"div\", {\"class\":\"a-section a-spacing-base comment-submission\"})"
   ]
  },
  {
   "cell_type": "code",
   "execution_count": 76,
   "metadata": {},
   "outputs": [
    {
     "data": {
      "text/plain": [
       "10"
      ]
     },
     "execution_count": 76,
     "metadata": {},
     "output_type": "execute_result"
    }
   ],
   "source": [
    "len(divs)"
   ]
  },
  {
   "cell_type": "markdown",
   "metadata": {},
   "source": [
    "#### Get Review Body"
   ]
  },
  {
   "cell_type": "code",
   "execution_count": 59,
   "metadata": {
    "collapsed": true
   },
   "outputs": [],
   "source": [
    "my_review_div = soup.findAll(\"div\", {\"class\":\"a-section a-spacing-none reviews-content a-size-base\"})"
   ]
  },
  {
   "cell_type": "code",
   "execution_count": 60,
   "metadata": {},
   "outputs": [
    {
     "data": {
      "text/plain": [
       "1"
      ]
     },
     "execution_count": 60,
     "metadata": {},
     "output_type": "execute_result"
    }
   ],
   "source": [
    "len(my_review_div)"
   ]
  },
  {
   "cell_type": "code",
   "execution_count": 61,
   "metadata": {},
   "outputs": [
    {
     "name": "stdout",
     "output_type": "stream",
     "text": [
      "{'id': 'RWNCKP3TY07X9', 'data-hook': 'review', 'class': ['a-section', 'review']}\n",
      "{'id': 'R3PP0ODPO64MGZ', 'data-hook': 'review', 'class': ['a-section', 'review']}\n",
      "{'id': 'R2DBA0Z7XFJENQ', 'data-hook': 'review', 'class': ['a-section', 'review']}\n",
      "{'id': 'R1VENPQXCDSUM6', 'data-hook': 'review', 'class': ['a-section', 'review']}\n",
      "{'id': 'RELGLV8VOWQM', 'data-hook': 'review', 'class': ['a-section', 'review']}\n",
      "{'id': 'R1XNTN0SLBL16E', 'data-hook': 'review', 'class': ['a-section', 'review']}\n",
      "{'id': 'R3SD8VHC4JRT9F', 'data-hook': 'review', 'class': ['a-section', 'review']}\n",
      "{'id': 'R3H8NVG1GUGS1P', 'data-hook': 'review', 'class': ['a-section', 'review']}\n",
      "{'id': 'R3430VDNBKUQY7', 'data-hook': 'review', 'class': ['a-section', 'review']}\n",
      "{'id': 'R1JQEO17F61XOR', 'data-hook': 'review', 'class': ['a-section', 'review']}\n"
     ]
    }
   ],
   "source": [
    "my_reviews = []\n",
    "for div in my_review_div:\n",
    "    #print(div.attrs)\n",
    "    reviews = div.findAll(\"div\", {\"data-hook\":\"review\"})\n",
    "    for review in reviews:\n",
    "        print(review.attrs)"
   ]
  },
  {
   "cell_type": "code",
   "execution_count": 62,
   "metadata": {
    "collapsed": true
   },
   "outputs": [],
   "source": [
    "my_review_ids = []\n",
    "for div in my_review_div:\n",
    "    reviews = div.findAll(\"div\", {\"data-hook\":\"review\"})\n",
    "    for review in reviews:\n",
    "        my_review_ids.append(review.attrs['id'])"
   ]
  },
  {
   "cell_type": "markdown",
   "metadata": {},
   "source": [
    "#### Get the text of the Reviews"
   ]
  },
  {
   "cell_type": "code",
   "execution_count": 63,
   "metadata": {
    "collapsed": true
   },
   "outputs": [],
   "source": [
    "for div in my_review_div:\n",
    "    review_texts = div.findAll('div', {'class':'a-row review-data'})\n",
    "    review_text = [text.text for text in review_texts]\n",
    "    all_review_titles = div.findAll('a', {'data-hook':'review-title'})  \n",
    "    review_titles = [title.text for title in all_review_titles]   \n",
    "    all_authors = div.findAll('a', {'data-hook':'review-author'})\n",
    "    authors = [author.text  for author in all_authors]\n",
    "    all_ratings = div.findAll('i', {'data-hook':'review-star-rating'})\n",
    "    ratings = [rating.text  for rating in all_ratings]"
   ]
  },
  {
   "cell_type": "code",
   "execution_count": 64,
   "metadata": {},
   "outputs": [
    {
     "data": {
      "text/html": [
       "<div>\n",
       "<style>\n",
       "    .dataframe thead tr:only-child th {\n",
       "        text-align: right;\n",
       "    }\n",
       "\n",
       "    .dataframe thead th {\n",
       "        text-align: left;\n",
       "    }\n",
       "\n",
       "    .dataframe tbody tr th {\n",
       "        vertical-align: top;\n",
       "    }\n",
       "</style>\n",
       "<table border=\"1\" class=\"dataframe\">\n",
       "  <thead>\n",
       "    <tr style=\"text-align: right;\">\n",
       "      <th></th>\n",
       "      <th>Author</th>\n",
       "      <th>Rating</th>\n",
       "      <th>Review</th>\n",
       "      <th>Title</th>\n",
       "    </tr>\n",
       "  </thead>\n",
       "  <tbody>\n",
       "    <tr>\n",
       "      <th>0</th>\n",
       "      <td>V. R. Padgett</td>\n",
       "      <td>5.0 out of 5 stars</td>\n",
       "      <td>I bought his for my girlfriend, who collects e...</td>\n",
       "      <td>This is a different book</td>\n",
       "    </tr>\n",
       "    <tr>\n",
       "      <th>1</th>\n",
       "      <td>James D. Michels</td>\n",
       "      <td>5.0 out of 5 stars</td>\n",
       "      <td>This is a beautiful coffee table book.I bought...</td>\n",
       "      <td>Beautiful bit of brain food</td>\n",
       "    </tr>\n",
       "    <tr>\n",
       "      <th>2</th>\n",
       "      <td>J. Manuel Herrera</td>\n",
       "      <td>5.0 out of 5 stars</td>\n",
       "      <td>Everything I expected and more, in terms of th...</td>\n",
       "      <td>VERY Satisfied!</td>\n",
       "    </tr>\n",
       "    <tr>\n",
       "      <th>3</th>\n",
       "      <td>Bill</td>\n",
       "      <td>5.0 out of 5 stars</td>\n",
       "      <td>love it</td>\n",
       "      <td>Five Stars</td>\n",
       "    </tr>\n",
       "    <tr>\n",
       "      <th>4</th>\n",
       "      <td>Triathlon King of Pain</td>\n",
       "      <td>5.0 out of 5 stars</td>\n",
       "      <td>Awesome read.</td>\n",
       "      <td>Five Stars</td>\n",
       "    </tr>\n",
       "    <tr>\n",
       "      <th>5</th>\n",
       "      <td>M. Gagnon</td>\n",
       "      <td>5.0 out of 5 stars</td>\n",
       "      <td>This was purchased as a gift for my Dad &amp; he a...</td>\n",
       "      <td>Pretty Sweet...</td>\n",
       "    </tr>\n",
       "    <tr>\n",
       "      <th>6</th>\n",
       "      <td>66Etype</td>\n",
       "      <td>5.0 out of 5 stars</td>\n",
       "      <td>This book was requested by my wife and she has...</td>\n",
       "      <td>Einstein Biography</td>\n",
       "    </tr>\n",
       "    <tr>\n",
       "      <th>7</th>\n",
       "      <td>Jerry Guild</td>\n",
       "      <td>5.0 out of 5 stars</td>\n",
       "      <td>This is an outstanding book for anyone who wan...</td>\n",
       "      <td>An awe-inspiring look at one of the greatest s...</td>\n",
       "    </tr>\n",
       "    <tr>\n",
       "      <th>8</th>\n",
       "      <td>A. G. Sanchez</td>\n",
       "      <td>5.0 out of 5 stars</td>\n",
       "      <td>From the beginning I'll admit I'm a sucker for...</td>\n",
       "      <td>Einstein from birth to death</td>\n",
       "    </tr>\n",
       "    <tr>\n",
       "      <th>9</th>\n",
       "      <td>Illuminatus</td>\n",
       "      <td>2.0 out of 5 stars</td>\n",
       "      <td>Having already written a fine biography of Ein...</td>\n",
       "      <td>Supermarket Tabloid</td>\n",
       "    </tr>\n",
       "  </tbody>\n",
       "</table>\n",
       "</div>"
      ],
      "text/plain": [
       "                   Author              Rating  \\\n",
       "0           V. R. Padgett  5.0 out of 5 stars   \n",
       "1        James D. Michels  5.0 out of 5 stars   \n",
       "2       J. Manuel Herrera  5.0 out of 5 stars   \n",
       "3                    Bill  5.0 out of 5 stars   \n",
       "4  Triathlon King of Pain  5.0 out of 5 stars   \n",
       "5               M. Gagnon  5.0 out of 5 stars   \n",
       "6                 66Etype  5.0 out of 5 stars   \n",
       "7             Jerry Guild  5.0 out of 5 stars   \n",
       "8           A. G. Sanchez  5.0 out of 5 stars   \n",
       "9             Illuminatus  2.0 out of 5 stars   \n",
       "\n",
       "                                              Review  \\\n",
       "0  I bought his for my girlfriend, who collects e...   \n",
       "1  This is a beautiful coffee table book.I bought...   \n",
       "2  Everything I expected and more, in terms of th...   \n",
       "3                                            love it   \n",
       "4                                      Awesome read.   \n",
       "5  This was purchased as a gift for my Dad & he a...   \n",
       "6  This book was requested by my wife and she has...   \n",
       "7  This is an outstanding book for anyone who wan...   \n",
       "8  From the beginning I'll admit I'm a sucker for...   \n",
       "9  Having already written a fine biography of Ein...   \n",
       "\n",
       "                                               Title  \n",
       "0                           This is a different book  \n",
       "1                        Beautiful bit of brain food  \n",
       "2                                    VERY Satisfied!  \n",
       "3                                         Five Stars  \n",
       "4                                         Five Stars  \n",
       "5                                    Pretty Sweet...  \n",
       "6                                 Einstein Biography  \n",
       "7  An awe-inspiring look at one of the greatest s...  \n",
       "8                       Einstein from birth to death  \n",
       "9                                Supermarket Tabloid  "
      ]
     },
     "execution_count": 64,
     "metadata": {},
     "output_type": "execute_result"
    }
   ],
   "source": [
    "review_table = pd.DataFrame(\n",
    "    {'Author': authors,\n",
    "     'Rating': ratings,\n",
    "     'Title': review_titles,\n",
    "     'Review': review_text\n",
    "    })\n",
    "review_table"
   ]
  },
  {
   "cell_type": "code",
   "execution_count": 65,
   "metadata": {
    "collapsed": true
   },
   "outputs": [],
   "source": [
    "review_table.to_csv('Review_table.csv')"
   ]
  },
  {
   "cell_type": "code",
   "execution_count": null,
   "metadata": {
    "collapsed": true
   },
   "outputs": [],
   "source": []
  }
 ],
 "metadata": {
  "kernelspec": {
   "display_name": "Python 3",
   "language": "python",
   "name": "python3"
  },
  "language_info": {
   "codemirror_mode": {
    "name": "ipython",
    "version": 3
   },
   "file_extension": ".py",
   "mimetype": "text/x-python",
   "name": "python",
   "nbconvert_exporter": "python",
   "pygments_lexer": "ipython3",
   "version": "3.6.1"
  }
 },
 "nbformat": 4,
 "nbformat_minor": 2
}
